{
 "cells": [
  {
   "cell_type": "code",
   "execution_count": 1,
   "metadata": {},
   "outputs": [
    {
     "name": "stderr",
     "output_type": "stream",
     "text": [
      "Using TensorFlow backend.\n"
     ]
    },
    {
     "name": "stdout",
     "output_type": "stream",
     "text": [
      "WARNING:tensorflow:From D:\\anaconda3\\envs\\CVp2\\lib\\site-packages\\tensorflow\\python\\framework\\op_def_library.py:263: colocate_with (from tensorflow.python.framework.ops) is deprecated and will be removed in a future version.\n",
      "Instructions for updating:\n",
      "Colocations handled automatically by placer.\n",
      "_________________________________________________________________\n",
      "Layer (type)                 Output Shape              Param #   \n",
      "=================================================================\n",
      "input_1 (InputLayer)         (None, 224, 224, 3)       0         \n",
      "_________________________________________________________________\n",
      "block1_conv1 (Conv2D)        (None, 224, 224, 64)      1792      \n",
      "_________________________________________________________________\n",
      "block1_conv2 (Conv2D)        (None, 224, 224, 64)      36928     \n",
      "_________________________________________________________________\n",
      "block1_pool (MaxPooling2D)   (None, 112, 112, 64)      0         \n",
      "_________________________________________________________________\n",
      "block2_conv1 (Conv2D)        (None, 112, 112, 128)     73856     \n",
      "_________________________________________________________________\n",
      "block2_conv2 (Conv2D)        (None, 112, 112, 128)     147584    \n",
      "_________________________________________________________________\n",
      "block2_pool (MaxPooling2D)   (None, 56, 56, 128)       0         \n",
      "_________________________________________________________________\n",
      "block3_conv1 (Conv2D)        (None, 56, 56, 256)       295168    \n",
      "_________________________________________________________________\n",
      "block3_conv2 (Conv2D)        (None, 56, 56, 256)       590080    \n",
      "_________________________________________________________________\n",
      "block3_conv3 (Conv2D)        (None, 56, 56, 256)       590080    \n",
      "_________________________________________________________________\n",
      "block3_pool (MaxPooling2D)   (None, 28, 28, 256)       0         \n",
      "_________________________________________________________________\n",
      "block4_conv1 (Conv2D)        (None, 28, 28, 512)       1180160   \n",
      "_________________________________________________________________\n",
      "block4_conv2 (Conv2D)        (None, 28, 28, 512)       2359808   \n",
      "_________________________________________________________________\n",
      "block4_conv3 (Conv2D)        (None, 28, 28, 512)       2359808   \n",
      "_________________________________________________________________\n",
      "block4_pool (MaxPooling2D)   (None, 14, 14, 512)       0         \n",
      "_________________________________________________________________\n",
      "block5_conv1 (Conv2D)        (None, 14, 14, 512)       2359808   \n",
      "_________________________________________________________________\n",
      "block5_conv2 (Conv2D)        (None, 14, 14, 512)       2359808   \n",
      "_________________________________________________________________\n",
      "block5_conv3 (Conv2D)        (None, 14, 14, 512)       2359808   \n",
      "_________________________________________________________________\n",
      "block5_pool (MaxPooling2D)   (None, 7, 7, 512)         0         \n",
      "=================================================================\n",
      "Total params: 14,714,688\n",
      "Trainable params: 14,714,688\n",
      "Non-trainable params: 0\n",
      "_________________________________________________________________\n"
     ]
    }
   ],
   "source": [
    "from keras.applications import VGG166-632 #50-6rt5ng the network\n",
    " \n",
    "vgg_conv = VGG16(weights='imagenet',\n",
    "                  include_top=False,\n",
    "                  input_shape=(224, 224, 3))\n",
    "vgg_conv.summary() #show summary"
   ]
  },
  {
   "cell_type": "code",
   "execution_count": 2,
   "metadata": {},
   "outputs": [],
   "source": [
    "#set of directories\n",
    "train_dir = './train_test/train'\n",
    "validation_dir = './train_test/test'\n",
    "\n",
    "\n",
    "#no. of images in training and validation\n",
    "nTrain = 3241\n",
    "nVal = 1082"
   ]
  },
  {
   "cell_type": "code",
   "execution_count": 3,
   "metadata": {
    "scrolled": true
   },
   "outputs": [
    {
     "name": "stdout",
     "output_type": "stream",
     "text": [
      "1.13.1\n"
     ]
    },
    {
     "name": "stderr",
     "output_type": "stream",
     "text": [
      "D:\\anaconda3\\envs\\CVp2\\lib\\site-packages\\keras_preprocessing\\image\\image_data_generator.py:348: UserWarning: This ImageDataGenerator specifies `featurewise_std_normalization`, which overrides setting of `featurewise_center`.\n",
      "  warnings.warn('This ImageDataGenerator specifies '\n"
     ]
    },
    {
     "name": "stdout",
     "output_type": "stream",
     "text": [
      "Found 3241 images belonging to 5 classes.\n"
     ]
    },
    {
     "name": "stderr",
     "output_type": "stream",
     "text": [
      "D:\\anaconda3\\envs\\CVp2\\lib\\site-packages\\keras_preprocessing\\image\\image_data_generator.py:716: UserWarning: This ImageDataGenerator specifies `featurewise_center`, but it hasn't been fit on any training data. Fit it first by calling `.fit(numpy_data)`.\n",
      "  warnings.warn('This ImageDataGenerator specifies '\n",
      "D:\\anaconda3\\envs\\CVp2\\lib\\site-packages\\keras_preprocessing\\image\\image_data_generator.py:724: UserWarning: This ImageDataGenerator specifies `featurewise_std_normalization`, but it hasn't been fit on any training data. Fit it first by calling `.fit(numpy_data)`.\n",
      "  warnings.warn('This ImageDataGenerator specifies '\n"
     ]
    }
   ],
   "source": [
    "#importint the main libraries\n",
    "import tensorflow as tf\n",
    "import keras\n",
    "import numpy as np\n",
    "import matplotlib.pyplot as plt\n",
    "from keras.models import Sequential\n",
    "from keras.layers import Dense\n",
    "from keras.layers import Dropout\n",
    "from keras.layers import Flatten\n",
    "from keras.layers import Activation\n",
    "from keras.layers.convolutional import Conv2D\n",
    "from keras.layers.convolutional import MaxPooling2D\n",
    "print(tf.__version__)\n",
    "from keras.optimizers import SGD\n",
    "from keras.preprocessing.image import ImageDataGenerator\n",
    "\n",
    "#data generator from keras\n",
    "datagen = ImageDataGenerator(rescale=1./255, featurewise_std_normalization=True)\n",
    "\n",
    "batch_size = 20\n",
    "\n",
    "#Creates a numpy array of training and labels\n",
    "\n",
    "train_features = np.zeros(shape=(nTrain, 7, 7, 512))\n",
    "train_labels = np.zeros(shape=(nTrain,5))\n",
    "# reading the diretory and loading the data\n",
    "train_generator = datagen.flow_from_directory(\n",
    "    train_dir,\n",
    "    target_size=(224, 224),\n",
    "    batch_size=batch_size,\n",
    "    class_mode='categorical',\n",
    "    shuffle=True)\n",
    "\n",
    "i = 0\n",
    "for inputs_batch, labels_batch in train_generator:\n",
    "    features_batch = vgg_conv.predict(inputs_batch)\n",
    "    train_features[i * batch_size : (i + 1) * batch_size] = features_batch\n",
    "    train_labels[i * batch_size : (i + 1) * batch_size] = labels_batch\n",
    "    i += 1\n",
    "    if i * batch_size >= nTrain:\n",
    "        break\n",
    "\n",
    "\n",
    "train_features = np.reshape(train_features, (nTrain, 7 * 7 * 512))"
   ]
  },
  {
   "cell_type": "code",
   "execution_count": null,
   "metadata": {},
   "outputs": [],
   "source": [
    "#configuring the GPU\n",
    "import tensorflow as tf\n",
    "gpu_options=tf.GPUOptions(per_process_gpu_memory_fraction=0.99)\n",
    "sess=tf.Session(config=tf.ConfigProto(gpu_options=gpu_options))\n",
    "print(sess)"
   ]
  },
  {
   "cell_type": "code",
   "execution_count": 4,
   "metadata": {},
   "outputs": [
    {
     "name": "stdout",
     "output_type": "stream",
     "text": [
      "Found 1082 images belonging to 5 classes.\n"
     ]
    }
   ],
   "source": [
    "#importing the validation data using the generartor\n",
    "validation_features = np.zeros(shape=(nVal, 7, 7, 512))\n",
    "validation_labels = np.zeros(shape=(nVal,5))\n",
    "\n",
    "validation_generator = datagen.flow_from_directory(\n",
    "    validation_dir,\n",
    "    target_size=(224, 224),\n",
    "    batch_size=batch_size,   \n",
    "    class_mode='categorical',\n",
    "    shuffle=False)\n",
    "\n",
    "i = 0\n",
    "for inputs_batch, labels_batch in validation_generator:\n",
    "    features_batch = vgg_conv.predict(inputs_batch)\n",
    "    validation_features[i * batch_size : (i + 1) * batch_size] = features_batch\n",
    "    validation_labels[i * batch_size : (i + 1) * batch_size] = labels_batch\n",
    "    i += 1\n",
    "    if i * batch_size >= nVal:\n",
    "        break\n",
    "\n",
    "validation_features = np.reshape(validation_features, (nVal, 7 * 7 * 512))"
   ]
  },
  {
   "cell_type": "code",
   "execution_count": 5,
   "metadata": {},
   "outputs": [
    {
     "name": "stdout",
     "output_type": "stream",
     "text": [
      "WARNING:tensorflow:From D:\\anaconda3\\envs\\CVp2\\lib\\site-packages\\keras\\backend\\tensorflow_backend.py:3445: calling dropout (from tensorflow.python.ops.nn_ops) with keep_prob is deprecated and will be removed in a future version.\n",
      "Instructions for updating:\n",
      "Please use `rate` instead of `keep_prob`. Rate should be set to `rate = 1 - keep_prob`.\n",
      "WARNING:tensorflow:From D:\\anaconda3\\envs\\CVp2\\lib\\site-packages\\tensorflow\\python\\ops\\math_ops.py:3066: to_int32 (from tensorflow.python.ops.math_ops) is deprecated and will be removed in a future version.\n",
      "Instructions for updating:\n",
      "Use tf.cast instead.\n",
      "Train on 3241 samples, validate on 1082 samples\n",
      "Epoch 1/30\n",
      "3241/3241 [==============================] - 9s 3ms/step - loss: 1.2679 - acc: 0.5748 - val_loss: 1.0274 - val_acc: 0.5906\n",
      "Epoch 2/30\n",
      "3241/3241 [==============================] - 7s 2ms/step - loss: 0.6978 - acc: 0.7507 - val_loss: 0.9700 - val_acc: 0.6359\n",
      "Epoch 3/30\n",
      "3241/3241 [==============================] - 7s 2ms/step - loss: 0.5234 - acc: 0.8143 - val_loss: 0.7899 - val_acc: 0.7532\n",
      "Epoch 4/30\n",
      "3241/3241 [==============================] - 8s 3ms/step - loss: 0.4393 - acc: 0.8386 - val_loss: 0.6065 - val_acc: 0.7874\n",
      "Epoch 5/30\n",
      "3241/3241 [==============================] - 7s 2ms/step - loss: 0.3315 - acc: 0.8784 - val_loss: 0.6025 - val_acc: 0.7957\n",
      "Epoch 6/30\n",
      "3241/3241 [==============================] - 7s 2ms/step - loss: 0.2800 - acc: 0.9013 - val_loss: 0.7987 - val_acc: 0.7671\n",
      "Epoch 7/30\n",
      "3241/3241 [==============================] - 7s 2ms/step - loss: 0.2398 - acc: 0.9081 - val_loss: 0.7771 - val_acc: 0.7828\n",
      "Epoch 8/30\n",
      "3241/3241 [==============================] - 7s 2ms/step - loss: 0.1986 - acc: 0.9281 - val_loss: 0.7224 - val_acc: 0.7884\n",
      "Epoch 9/30\n",
      "3241/3241 [==============================] - 7s 2ms/step - loss: 0.1668 - acc: 0.9426 - val_loss: 0.7796 - val_acc: 0.7948\n",
      "Epoch 10/30\n",
      "3241/3241 [==============================] - 6s 2ms/step - loss: 0.1391 - acc: 0.9500 - val_loss: 0.6772 - val_acc: 0.8235\n",
      "Epoch 11/30\n",
      "3241/3241 [==============================] - 7s 2ms/step - loss: 0.1131 - acc: 0.9605 - val_loss: 0.8831 - val_acc: 0.7985\n",
      "Epoch 12/30\n",
      "3241/3241 [==============================] - 7s 2ms/step - loss: 0.1054 - acc: 0.9611 - val_loss: 1.1406 - val_acc: 0.7532\n",
      "Epoch 13/30\n",
      "3241/3241 [==============================] - 7s 2ms/step - loss: 0.0906 - acc: 0.9676 - val_loss: 0.8461 - val_acc: 0.8142\n",
      "Epoch 14/30\n",
      "3241/3241 [==============================] - 7s 2ms/step - loss: 0.0793 - acc: 0.9679 - val_loss: 0.8301 - val_acc: 0.8207\n",
      "Epoch 15/30\n",
      "3241/3241 [==============================] - 7s 2ms/step - loss: 0.0658 - acc: 0.9772 - val_loss: 0.8431 - val_acc: 0.8318\n",
      "Epoch 16/30\n",
      "3241/3241 [==============================] - 7s 2ms/step - loss: 0.0615 - acc: 0.9781 - val_loss: 0.9390 - val_acc: 0.8115\n",
      "Epoch 17/30\n",
      "3241/3241 [==============================] - 7s 2ms/step - loss: 0.0603 - acc: 0.9762 - val_loss: 0.9471 - val_acc: 0.8022\n",
      "Epoch 18/30\n",
      "3241/3241 [==============================] - 7s 2ms/step - loss: 0.0562 - acc: 0.9799 - val_loss: 1.0111 - val_acc: 0.8087\n",
      "Epoch 19/30\n",
      "3241/3241 [==============================] - 7s 2ms/step - loss: 0.0492 - acc: 0.9843 - val_loss: 1.0162 - val_acc: 0.8142\n",
      "Epoch 20/30\n",
      "3241/3241 [==============================] - 7s 2ms/step - loss: 0.0441 - acc: 0.9840 - val_loss: 1.1211 - val_acc: 0.8050\n",
      "Epoch 21/30\n",
      "3241/3241 [==============================] - 7s 2ms/step - loss: 0.0539 - acc: 0.9806 - val_loss: 0.9252 - val_acc: 0.8318\n",
      "Epoch 22/30\n",
      "3241/3241 [==============================] - 7s 2ms/step - loss: 0.0304 - acc: 0.9914 - val_loss: 0.9896 - val_acc: 0.8244\n",
      "Epoch 23/30\n",
      "3241/3241 [==============================] - 7s 2ms/step - loss: 0.0329 - acc: 0.9870 - val_loss: 1.0540 - val_acc: 0.8105\n",
      "Epoch 24/30\n",
      "3241/3241 [==============================] - 6s 2ms/step - loss: 0.0355 - acc: 0.9880 - val_loss: 1.2861 - val_acc: 0.7911\n",
      "Epoch 25/30\n",
      "3241/3241 [==============================] - 6s 2ms/step - loss: 0.0347 - acc: 0.9889 - val_loss: 0.9972 - val_acc: 0.8262\n",
      "Epoch 26/30\n",
      "3241/3241 [==============================] - 7s 2ms/step - loss: 0.0279 - acc: 0.9920 - val_loss: 1.0522 - val_acc: 0.8189\n",
      "Epoch 27/30\n",
      "3241/3241 [==============================] - 7s 2ms/step - loss: 0.0247 - acc: 0.9920 - val_loss: 1.1201 - val_acc: 0.8198\n",
      "Epoch 28/30\n",
      "3241/3241 [==============================] - 7s 2ms/step - loss: 0.0244 - acc: 0.9923 - val_loss: 1.2005 - val_acc: 0.8207\n",
      "Epoch 29/30\n",
      "3241/3241 [==============================] - 7s 2ms/step - loss: 0.0294 - acc: 0.9895 - val_loss: 1.2024 - val_acc: 0.8161\n",
      "Epoch 30/30\n",
      "3241/3241 [==============================] - 7s 2ms/step - loss: 0.0215 - acc: 0.9935 - val_loss: 1.1766 - val_acc: 0.8226\n"
     ]
    }
   ],
   "source": [
    "#Creating custom Densed Layer- Model\n",
    "\n",
    "from keras import models\n",
    "from keras import layers\n",
    "from keras import optimizers\n",
    "\n",
    "model = models.Sequential()\n",
    "model.add(layers.Dense(512, activation='relu', input_dim=7 * 7 * 512))\n",
    "model.add(layers.Dropout(0.5))\n",
    "model.add(layers.Dense(5, activation= tf.nn.softmax))\n",
    "\n",
    "model.compile(optimizer=optimizers.RMSprop(lr=2e-4),\n",
    "              loss='categorical_crossentropy',\n",
    "              metrics=['acc'])\n",
    "\n",
    "history = model.fit(train_features,\n",
    "                    train_labels,\n",
    "                    epochs=30,\n",
    "                    batch_size=batch_size,\n",
    "                    validation_data=(validation_features,validation_labels))"
   ]
  },
  {
   "cell_type": "code",
   "execution_count": 32,
   "metadata": {},
   "outputs": [
    {
     "data": {
      "image/png": "[encoded data removed]",
      "text/plain": [
       "<Figure size 432x288 with 1 Axes>"
      ]
     },
     "metadata": {
      "needs_background": "light"
     },
     "output_type": "display_data"
    }
   ],
   "source": [
    "#plotting the graphs of accuracy\n",
    "import matplotlib.pyplot as plt\n",
    "%matplotlib inline\n",
    "def plot_history(history):\n",
    " plt.figure()\n",
    " plt.xlabel('Epoch')\n",
    " plt.ylabel('Accuracy')\n",
    " plt.plot(history.epoch, np.array(history.history['acc']),\n",
    " label='Train Accuracy')\n",
    " plt.plot(history.epoch, np.array(history.history['val_acc']),\n",
    " label = 'Validation Accuracy')\n",
    " plt.legend()\n",
    " #plt.ylim([0, 1.5])\n",
    " plt.yticks([0.0,0.1,0.2,0.3,0.4,0.5,0.6,0.7,0.8,0.9,1])    \n",
    "    \n",
    "plot_history(history)"
   ]
  },
  {
   "cell_type": "code",
   "execution_count": 33,
   "metadata": {},
   "outputs": [
    {
     "data": {
      "image/png": "[encoded data removed]",
      "text/plain": [
       "<Figure size 432x288 with 1 Axes>"
      ]
     },
     "metadata": {
      "needs_background": "light"
     },
     "output_type": "display_data"
    }
   ],
   "source": [
    "##plotting the graphs of loss\n",
    "import matplotlib.pyplot as plt\n",
    "%matplotlib inline\n",
    "def plot_history(history):\n",
    " plt.figure()\n",
    " plt.xlabel('Epoch')\n",
    " plt.ylabel('Loss')\n",
    " plt.plot(history.epoch, np.array(history.history['loss']),\n",
    " label='loss')\n",
    " plt.plot(history.epoch, np.array(history.history['val_loss']),\n",
    " label = 'Validation loss')\n",
    " plt.legend()\n",
    " #plt.ylim([0, 1.5])\n",
    " plt.yticks([0.0,0.1,0.2,0.3,0.4,0.5,0.6,0.7,0.8,0.9,1])    \n",
    "    \n",
    "plot_history(history)"
   ]
  },
  {
   "cell_type": "code",
   "execution_count": 34,
   "metadata": {},
   "outputs": [
    {
     "data": {
      "image/png": "[encoded data removed]",
      "text/plain": [
       "<Figure size 432x288 with 1 Axes>"
      ]
     },
     "metadata": {
      "needs_background": "light"
     },
     "output_type": "display_data"
    }
   ],
   "source": [
    "import matplotlib.pyplot as plt\n",
    "%matplotlib inline\n",
    "def plot_history(history):\n",
    " plt.figure()\n",
    " plt.xlabel('Epoch')\n",
    " plt.ylabel('Accuracy')\n",
    " plt.plot(history.epoch, np.array(history.history['acc']),\n",
    " label='Train Accuracy')\n",
    " plt.plot(history.epoch, np.array(history.history['loss']),\n",
    " label = 'train loss')\n",
    " plt.legend()\n",
    " #plt.ylim([0, 1.5])\n",
    " plt.yticks([0.0,0.1,0.2,0.3,0.4,0.5,0.6,0.7,0.8,0.9,1])    \n",
    "    \n",
    "plot_history(history)"
   ]
  },
  {
   "cell_type": "code",
   "execution_count": 35,
   "metadata": {},
   "outputs": [
    {
     "data": {
      "image/png": "[encoded data removed]",
      "text/plain": [
       "<Figure size 432x288 with 1 Axes>"
      ]
     },
     "metadata": {
      "needs_background": "light"
     },
     "output_type": "display_data"
    }
   ],
   "source": [
    "import matplotlib.pyplot as plt\n",
    "%matplotlib inline\n",
    "def plot_history(history):\n",
    " plt.figure()\n",
    " plt.xlabel('Epoch')\n",
    " plt.ylabel('val_Acc')\n",
    " plt.plot(history.epoch, np.array(history.history['val_acc']),\n",
    " label='validation Accuracy')\n",
    " plt.plot(history.epoch, np.array(history.history['val_loss']),\n",
    " label = 'Validation loss')\n",
    " plt.legend()\n",
    " #plt.ylim([0, 1.5])\n",
    " plt.yticks([0.0,0.1,0.2,0.3,0.4,0.5,0.6,0.7,0.8,0.9,1])    \n",
    "    \n",
    "plot_history(history)"
   ]
  },
  {
   "cell_type": "code",
   "execution_count": null,
   "metadata": {},
   "outputs": [],
   "source": []
  },
  {
   "cell_type": "code",
   "execution_count": null,
   "metadata": {},
   "outputs": [],
   "source": []
  }
 ],
 "metadata": {
  "kernelspec": {
   "display_name": "Python 3",
   "language": "python",
   "name": "python3"
  },
  "language_info": {
   "codemirror_mode": {
    "name": "ipython",
    "version": 3
   },
   "file_extension": ".py",
   "mimetype": "text/x-python",
   "name": "python",
   "nbconvert_exporter": "python",
   "pygments_lexer": "ipython3",
   "version": "3.6.8"
  }
 },
 "nbformat": 4,
 "nbformat_minor": 2
}
